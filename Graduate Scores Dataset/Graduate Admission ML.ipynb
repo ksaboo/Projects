{
 "cells": [
  {
   "cell_type": "code",
   "execution_count": 113,
   "metadata": {},
   "outputs": [],
   "source": [
    "import numpy as np\n",
    "from matplotlib import pyplot as plt\n",
    "import math\n",
    "import pandas as pd\n",
    "import scipy.optimize as opt"
   ]
  },
  {
   "cell_type": "code",
   "execution_count": 166,
   "metadata": {},
   "outputs": [
    {
     "data": {
      "text/plain": [
       "array([0., 0., 0., 0., 0., 0., 0.])"
      ]
     },
     "execution_count": 166,
     "metadata": {},
     "output_type": "execute_result"
    }
   ],
   "source": [
    "path = 'Admission_Predict.csv'\n",
    "dat = pd.read_csv(path)\n",
    "n = n-1\n",
    "y = dat['Chance of Admit '].to_numpy().transpose()\n",
    "x = dat.drop(['Chance of Admit ','Serial No.'],axis = 1).to_numpy()\n",
    "m,n = x.shape\n",
    "theta = np.zeros(n)\n",
    "lambd = 0\n",
    "#theta = np.matrix(theta)\n",
    "#x = np.matrix(x)\n",
    "#y = np.matrix(y)\n",
    "theta"
   ]
  },
  {
   "cell_type": "code",
   "execution_count": 84,
   "metadata": {},
   "outputs": [
    {
     "data": {
      "text/plain": [
       "array([0., 0., 0., 0., 0., 0., 0.])"
      ]
     },
     "execution_count": 84,
     "metadata": {},
     "output_type": "execute_result"
    }
   ],
   "source": [
    "dat.head()"
   ]
  },
  {
   "cell_type": "code",
   "execution_count": 151,
   "metadata": {},
   "outputs": [],
   "source": [
    "def gradient(theta,X,y):\n",
    "    lambd = 0\n",
    "    hyp = np.dot(theta,np.transpose(X))\n",
    "    grad = np.dot((hyp-y),X)/m\n",
    "    grad[1:n] = grad[1:n]+(lambd/m)*theta[1:n]\n",
    "    return grad"
   ]
  },
  {
   "cell_type": "code",
   "execution_count": 135,
   "metadata": {},
   "outputs": [],
   "source": [
    "def cost(theta,X,y):\n",
    "    lambd = 0\n",
    "    hyp = np.dot(theta,np.transpose(X))\n",
    "    inner = np.square(hyp-y)\n",
    "    regTerm = lambd*(1/(2*m))*sum(np.square(theta[1:n]))\n",
    "    cost = sum(inner)+regTerm\n",
    "    return cost"
   ]
  },
  {
   "cell_type": "code",
   "execution_count": 147,
   "metadata": {
    "scrolled": true
   },
   "outputs": [
    {
     "ename": "AttributeError",
     "evalue": "'tuple' object has no attribute 'OptimizeResult'",
     "output_type": "error",
     "traceback": [
      "\u001b[1;31m---------------------------------------------------------------------------\u001b[0m",
      "\u001b[1;31mAttributeError\u001b[0m                            Traceback (most recent call last)",
      "\u001b[1;32m<ipython-input-147-5fba06715a49>\u001b[0m in \u001b[0;36m<module>\u001b[1;34m\u001b[0m\n\u001b[0;32m      3\u001b[0m \u001b[0mresult\u001b[0m \u001b[1;33m=\u001b[0m \u001b[0mopt\u001b[0m\u001b[1;33m.\u001b[0m\u001b[0mfmin_tnc\u001b[0m\u001b[1;33m(\u001b[0m\u001b[0mfunc\u001b[0m\u001b[1;33m=\u001b[0m\u001b[0mcost\u001b[0m\u001b[1;33m,\u001b[0m \u001b[0mx0\u001b[0m\u001b[1;33m=\u001b[0m\u001b[0mtheta\u001b[0m\u001b[1;33m,\u001b[0m \u001b[0mfprime\u001b[0m\u001b[1;33m=\u001b[0m\u001b[0mgradient\u001b[0m\u001b[1;33m,\u001b[0m \u001b[0margs\u001b[0m\u001b[1;33m=\u001b[0m\u001b[1;33m(\u001b[0m\u001b[0mx\u001b[0m\u001b[1;33m,\u001b[0m \u001b[0my\u001b[0m\u001b[1;33m)\u001b[0m\u001b[1;33m)\u001b[0m\u001b[1;33m\u001b[0m\u001b[1;33m\u001b[0m\u001b[0m\n\u001b[0;32m      4\u001b[0m \u001b[0mcost\u001b[0m\u001b[1;33m(\u001b[0m\u001b[0mresult\u001b[0m\u001b[1;33m[\u001b[0m\u001b[1;36m0\u001b[0m\u001b[1;33m]\u001b[0m\u001b[1;33m,\u001b[0m \u001b[0mx\u001b[0m\u001b[1;33m,\u001b[0m \u001b[0my\u001b[0m\u001b[1;33m)\u001b[0m\u001b[1;33m\u001b[0m\u001b[1;33m\u001b[0m\u001b[0m\n\u001b[1;32m----> 5\u001b[1;33m \u001b[0mresult\u001b[0m\u001b[1;33m.\u001b[0m\u001b[0mOptimizeResult\u001b[0m\u001b[1;33m(\u001b[0m\u001b[1;33m)\u001b[0m\u001b[1;33m\u001b[0m\u001b[1;33m\u001b[0m\u001b[0m\n\u001b[0m",
      "\u001b[1;31mAttributeError\u001b[0m: 'tuple' object has no attribute 'OptimizeResult'"
     ]
    }
   ],
   "source": [
    "#cost = cost(theta,x,y)\n",
    "#gradient = gradient(theta,x,y)\n",
    "result = opt.fmin_tnc(func=cost, x0=theta, fprime=gradient, args=(x, y))\n",
    "cost(result[0], x, y)\n",
    "result.OptimizeResult()"
   ]
  },
  {
   "cell_type": "code",
   "execution_count": 146,
   "metadata": {},
   "outputs": [
    {
     "name": "stdout",
     "output_type": "stream",
     "text": [
      "Optimization terminated successfully.\n",
      "         Current function value: 2.009536\n",
      "         Iterations: 12\n",
      "         Function evaluations: 136\n",
      "         Gradient evaluations: 17\n"
     ]
    },
    {
     "ename": "AttributeError",
     "evalue": "'numpy.ndarray' object has no attribute 'OptimizeResult'",
     "output_type": "error",
     "traceback": [
      "\u001b[1;31m---------------------------------------------------------------------------\u001b[0m",
      "\u001b[1;31mAttributeError\u001b[0m                            Traceback (most recent call last)",
      "\u001b[1;32m<ipython-input-146-41dc2b4f49e4>\u001b[0m in \u001b[0;36m<module>\u001b[1;34m\u001b[0m\n\u001b[0;32m      1\u001b[0m \u001b[0mresult\u001b[0m \u001b[1;33m=\u001b[0m \u001b[0mopt\u001b[0m\u001b[1;33m.\u001b[0m\u001b[0mfmin_bfgs\u001b[0m\u001b[1;33m(\u001b[0m\u001b[0mcost\u001b[0m\u001b[1;33m,\u001b[0m\u001b[0mtheta\u001b[0m\u001b[1;33m,\u001b[0m\u001b[0mfprime\u001b[0m \u001b[1;33m=\u001b[0m \u001b[0mgradient\u001b[0m\u001b[1;33m,\u001b[0m \u001b[0margs\u001b[0m \u001b[1;33m=\u001b[0m \u001b[1;33m(\u001b[0m\u001b[0mx\u001b[0m\u001b[1;33m,\u001b[0m\u001b[0my\u001b[0m\u001b[1;33m)\u001b[0m\u001b[1;33m)\u001b[0m\u001b[1;33m\u001b[0m\u001b[1;33m\u001b[0m\u001b[0m\n\u001b[0;32m      2\u001b[0m \u001b[0mcost\u001b[0m\u001b[1;33m(\u001b[0m\u001b[0mresult\u001b[0m\u001b[1;33m,\u001b[0m \u001b[0mx\u001b[0m\u001b[1;33m,\u001b[0m \u001b[0my\u001b[0m\u001b[1;33m)\u001b[0m\u001b[1;33m\u001b[0m\u001b[1;33m\u001b[0m\u001b[0m\n\u001b[1;32m----> 3\u001b[1;33m \u001b[0mresult\u001b[0m\u001b[1;33m.\u001b[0m\u001b[0mOptimizeResult\u001b[0m\u001b[1;33m(\u001b[0m\u001b[1;33m)\u001b[0m\u001b[1;33m\u001b[0m\u001b[1;33m\u001b[0m\u001b[0m\n\u001b[0m",
      "\u001b[1;31mAttributeError\u001b[0m: 'numpy.ndarray' object has no attribute 'OptimizeResult'"
     ]
    }
   ],
   "source": [
    "result = opt.fmin_bfgs(cost,theta,fprime = gradient, args = (x,y))\n",
    "cost(result, x, y)\n"
   ]
  },
  {
   "cell_type": "code",
   "execution_count": null,
   "metadata": {},
   "outputs": [],
   "source": [
    "res = opt.minimize(cost, theta, method='BFGS', jac=gradient,\n",
    "               options={'disp': True},args = (x,y))\n",
    "res"
   ]
  },
  {
   "cell_type": "code",
   "execution_count": 167,
   "metadata": {},
   "outputs": [
    {
     "name": "stderr",
     "output_type": "stream",
     "text": [
      "<ipython-input-135-8678dcbed0ba>:6: RuntimeWarning: overflow encountered in double_scalars\n",
      "  cost = sum(inner)+regTerm\n",
      "<ipython-input-135-8678dcbed0ba>:4: RuntimeWarning: overflow encountered in square\n",
      "  inner = np.square(hyp-y)\n",
      "<ipython-input-135-8678dcbed0ba>:5: RuntimeWarning: overflow encountered in square\n",
      "  regTerm = lambd*(1/(2*m))*sum(np.square(theta[1:n]))\n",
      "<ipython-input-135-8678dcbed0ba>:5: RuntimeWarning: invalid value encountered in double_scalars\n",
      "  regTerm = lambd*(1/(2*m))*sum(np.square(theta[1:n]))\n",
      "<ipython-input-167-7cca6fa2cbbf>:5: RuntimeWarning: invalid value encountered in subtract\n",
      "  theta = theta-grad*alpha\n",
      "<ipython-input-151-d91f3a758ebb>:5: RuntimeWarning: invalid value encountered in multiply\n",
      "  grad[1:n] = grad[1:n]+(lambd/m)*theta[1:n]\n"
     ]
    }
   ],
   "source": [
    "def gradientDescentMulti(X, y, theta, alpha, num_iters):\n",
    "    J_history = np.zeros(num_iters)\n",
    "    for i in range(num_iters):\n",
    "        grad = gradient(theta,X,y)\n",
    "        theta = theta-grad*alpha\n",
    "        J_history[i] = cost(theta,X,y)\n",
    "    return theta,J_history\n",
    "theta,j = gradientDescentMulti(x,y,theta,.1,100)"
   ]
  },
  {
   "cell_type": "code",
   "execution_count": 168,
   "metadata": {},
   "outputs": [
    {
     "name": "stdout",
     "output_type": "stream",
     "text": [
      "[2.66835260e+010 3.35667425e+018 4.22255365e+026 5.31179317e+034\n",
      " 6.68201022e+042 8.40568508e+050 1.05739948e+059 1.33016364e+067\n",
      " 1.67328937e+075 2.10492697e+083 2.64790873e+091 3.33095673e+099\n",
      " 4.19020211e+107 5.27109630e+115 6.63081528e+123 8.34128402e+131\n",
      " 1.04929811e+140 1.31997245e+148 1.66046929e+156 2.08879985e+164\n",
      " 2.62762150e+172 3.30543625e+180 4.15809843e+188 5.23071123e+196\n",
      " 6.58001259e+204 8.27737639e+212 1.04125880e+221 1.30985934e+229\n",
      " 1.64774743e+237 2.07279629e+245 2.60748970e+253 3.28011130e+261\n",
      " 4.12624071e+269 5.19063558e+277 6.52959912e+285 8.21395839e+293\n",
      " 1.03328108e+302             inf             nan             nan\n",
      "             nan             nan             nan             nan\n",
      "             nan             nan             nan             nan\n",
      "             nan             nan             nan             nan\n",
      "             nan             nan             nan             nan\n",
      "             nan             nan             nan             nan\n",
      "             nan             nan             nan             nan\n",
      "             nan             nan             nan             nan\n",
      "             nan             nan             nan             nan\n",
      "             nan             nan             nan             nan\n",
      "             nan             nan             nan             nan\n",
      "             nan             nan             nan             nan\n",
      "             nan             nan             nan             nan\n",
      "             nan             nan             nan             nan\n",
      "             nan             nan             nan             nan\n",
      "             nan             nan             nan             nan]\n"
     ]
    }
   ],
   "source": [
    "print(j)"
   ]
  }
 ],
 "metadata": {
  "kernelspec": {
   "display_name": "Python 3",
   "language": "python",
   "name": "python3"
  },
  "language_info": {
   "codemirror_mode": {
    "name": "ipython",
    "version": 3
   },
   "file_extension": ".py",
   "mimetype": "text/x-python",
   "name": "python",
   "nbconvert_exporter": "python",
   "pygments_lexer": "ipython3",
   "version": "3.8.3"
  }
 },
 "nbformat": 4,
 "nbformat_minor": 4
}
